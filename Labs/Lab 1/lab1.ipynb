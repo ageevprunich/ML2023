{
 "cells": [
  {
   "cell_type": "code",
   "execution_count": 22,
   "metadata": {},
   "outputs": [
    {
     "name": "stdout",
     "output_type": "stream",
     "text": [
      "[10 11 12 13 14 15 16 17 18 19 20 21 22 23 24]\n",
      "[0 0 0 0 0]\n",
      "\n",
      " Scalar:  15\n",
      "Vector:  [ 5  7  9 11 13 15 17 19]\n",
      "Matrix: \n",
      " [[13  6  4  1 14]\n",
      " [16 15  6  9 12]\n",
      " [15 14 13  7 18]\n",
      " [ 7 11  5  9 13]\n",
      " [10 12 16 15 17]]\n",
      "\n",
      " Scalar update:  9\n",
      "Vector update:  [ 5  7  9 11 13  9 17 19]\n",
      "Matrix update: \n",
      " [[13  6  4  1 14]\n",
      " [16 15  6  9 12]\n",
      " [15 14 13  7 18]\n",
      " [ 7 11  5  9 54]\n",
      " [10 12 16 15 17]]\n",
      "\n",
      " Vector delete:  [ 5  7 11 13  9 17 19]\n",
      "Matrix delete: \n",
      " [[13  6  4  1 14]\n",
      " [15 14 13  7 18]\n",
      " [ 7 11  5  9 54]\n",
      " [10 12 16 15 17]]\n"
     ]
    }
   ],
   "source": [
    "import numpy as np\n",
    "\n",
    "# Операції random та arange\n",
    "array = np.arange(start=10, stop=25, step=1)\n",
    "rand_ar = np.random.randint(1, size=5)\n",
    "print(array)\n",
    "print(rand_ar)\n",
    "\n",
    "# CRUD\n",
    "\n",
    "# create\n",
    "scalar = np.array(15)\n",
    "vector = np.arange(start=5, stop=20, step=2)\n",
    "matrix = np.random.randint(low=1, high=20, size=(5, 5))\n",
    "\n",
    "# read\n",
    "print(\"\\n Scalar: \", scalar)\n",
    "print(\"Vector: \", vector)\n",
    "print(\"Matrix: \\n\", matrix)\n",
    "\n",
    "# update\n",
    "scalar = vector[2]\n",
    "vector[5] = matrix[1,3]\n",
    "matrix[3,4] = 54\n",
    "print(\"\\n Scalar update: \", scalar)\n",
    "print(\"Vector update: \", vector)\n",
    "print(\"Matrix update: \\n\", matrix)\n",
    "\n",
    "# delete\n",
    "vector = np.delete(vector, [2])\n",
    "matrix = np.delete(matrix, 1, 0)\n",
    "print(\"\\n Vector delete: \", vector)\n",
    "print(\"Matrix delete: \\n\", matrix)"
   ]
  },
  {
   "cell_type": "code",
   "execution_count": 32,
   "metadata": {},
   "outputs": [
    {
     "name": "stdout",
     "output_type": "stream",
     "text": [
      "     Name Lastname\n",
      "0    Mike     Lake\n",
      "1  Wolter    White\n",
      "2    Lila  Pinkman\n",
      "--------------------------------------------\n",
      "     Name  Age         City\n",
      "0    Mike   20  Los Angeles\n",
      "1  Wolter   51     New York\n",
      "2    Lila   25      Chicago\n",
      "--------------------------------------------\n",
      "     Name  Age         City\n",
      "0    Mike   20  Los Angeles\n",
      "1  Wolter   51     New York\n",
      "2    Lila   25      Chicago\n",
      "--------------------------------------------\n",
      "     Name Lastname\n",
      "0    Mike     Lake\n",
      "1  Wolter    White\n",
      "--------------------------------------------\n",
      "   Name Lastname\n",
      "2  Lila  Pinkman\n",
      "--------------------------------------------\n"
     ]
    },
    {
     "ename": "KeyError",
     "evalue": "'Lastname'",
     "output_type": "error",
     "traceback": [
      "\u001b[1;31m---------------------------------------------------------------------------\u001b[0m",
      "\u001b[1;31mKeyError\u001b[0m                                  Traceback (most recent call last)",
      "\u001b[1;32mc:\\Users\\ageev\\Documents\\GitHub\\ML2023\\Labs\\Lab 1\\lab1.ipynb Cell 2\u001b[0m line \u001b[0;36m3\n\u001b[0;32m     <a href='vscode-notebook-cell:/c%3A/Users/ageev/Documents/GitHub/ML2023/Labs/Lab%201/lab1.ipynb#W1sZmlsZQ%3D%3D?line=31'>32</a>\u001b[0m \u001b[39mprint\u001b[39m(df\u001b[39m.\u001b[39mtail(\u001b[39m1\u001b[39m))\n\u001b[0;32m     <a href='vscode-notebook-cell:/c%3A/Users/ageev/Documents/GitHub/ML2023/Labs/Lab%201/lab1.ipynb#W1sZmlsZQ%3D%3D?line=32'>33</a>\u001b[0m \u001b[39mprint\u001b[39m(\u001b[39m'\u001b[39m\u001b[39m--------------------------------------------\u001b[39m\u001b[39m'\u001b[39m)\n\u001b[1;32m---> <a href='vscode-notebook-cell:/c%3A/Users/ageev/Documents/GitHub/ML2023/Labs/Lab%201/lab1.ipynb#W1sZmlsZQ%3D%3D?line=33'>34</a>\u001b[0m \u001b[39mprint\u001b[39m(df\u001b[39m.\u001b[39;49mloc[\u001b[39m'\u001b[39;49m\u001b[39mLastname\u001b[39;49m\u001b[39m'\u001b[39;49m])\n\u001b[0;32m     <a href='vscode-notebook-cell:/c%3A/Users/ageev/Documents/GitHub/ML2023/Labs/Lab%201/lab1.ipynb#W1sZmlsZQ%3D%3D?line=34'>35</a>\u001b[0m \u001b[39mprint\u001b[39m(\u001b[39m'\u001b[39m\u001b[39m--------------------------------------------\u001b[39m\u001b[39m'\u001b[39m)\n\u001b[0;32m     <a href='vscode-notebook-cell:/c%3A/Users/ageev/Documents/GitHub/ML2023/Labs/Lab%201/lab1.ipynb#W1sZmlsZQ%3D%3D?line=35'>36</a>\u001b[0m \u001b[39mprint\u001b[39m(df2\u001b[39m.\u001b[39miloc[[\u001b[39m1\u001b[39m,\u001b[39m2\u001b[39m]])\n",
      "File \u001b[1;32mc:\\Users\\ageev\\anaconda3\\envs\\ML2023\\Lib\\site-packages\\pandas\\core\\indexing.py:1153\u001b[0m, in \u001b[0;36m_LocationIndexer.__getitem__\u001b[1;34m(self, key)\u001b[0m\n\u001b[0;32m   1150\u001b[0m axis \u001b[39m=\u001b[39m \u001b[39mself\u001b[39m\u001b[39m.\u001b[39maxis \u001b[39mor\u001b[39;00m \u001b[39m0\u001b[39m\n\u001b[0;32m   1152\u001b[0m maybe_callable \u001b[39m=\u001b[39m com\u001b[39m.\u001b[39mapply_if_callable(key, \u001b[39mself\u001b[39m\u001b[39m.\u001b[39mobj)\n\u001b[1;32m-> 1153\u001b[0m \u001b[39mreturn\u001b[39;00m \u001b[39mself\u001b[39;49m\u001b[39m.\u001b[39;49m_getitem_axis(maybe_callable, axis\u001b[39m=\u001b[39;49maxis)\n",
      "File \u001b[1;32mc:\\Users\\ageev\\anaconda3\\envs\\ML2023\\Lib\\site-packages\\pandas\\core\\indexing.py:1393\u001b[0m, in \u001b[0;36m_LocIndexer._getitem_axis\u001b[1;34m(self, key, axis)\u001b[0m\n\u001b[0;32m   1391\u001b[0m \u001b[39m# fall thru to straight lookup\u001b[39;00m\n\u001b[0;32m   1392\u001b[0m \u001b[39mself\u001b[39m\u001b[39m.\u001b[39m_validate_key(key, axis)\n\u001b[1;32m-> 1393\u001b[0m \u001b[39mreturn\u001b[39;00m \u001b[39mself\u001b[39;49m\u001b[39m.\u001b[39;49m_get_label(key, axis\u001b[39m=\u001b[39;49maxis)\n",
      "File \u001b[1;32mc:\\Users\\ageev\\anaconda3\\envs\\ML2023\\Lib\\site-packages\\pandas\\core\\indexing.py:1343\u001b[0m, in \u001b[0;36m_LocIndexer._get_label\u001b[1;34m(self, label, axis)\u001b[0m\n\u001b[0;32m   1341\u001b[0m \u001b[39mdef\u001b[39;00m \u001b[39m_get_label\u001b[39m(\u001b[39mself\u001b[39m, label, axis: AxisInt):\n\u001b[0;32m   1342\u001b[0m     \u001b[39m# GH#5567 this will fail if the label is not present in the axis.\u001b[39;00m\n\u001b[1;32m-> 1343\u001b[0m     \u001b[39mreturn\u001b[39;00m \u001b[39mself\u001b[39;49m\u001b[39m.\u001b[39;49mobj\u001b[39m.\u001b[39;49mxs(label, axis\u001b[39m=\u001b[39;49maxis)\n",
      "File \u001b[1;32mc:\\Users\\ageev\\anaconda3\\envs\\ML2023\\Lib\\site-packages\\pandas\\core\\generic.py:4236\u001b[0m, in \u001b[0;36mNDFrame.xs\u001b[1;34m(self, key, axis, level, drop_level)\u001b[0m\n\u001b[0;32m   4234\u001b[0m             new_index \u001b[39m=\u001b[39m index[loc]\n\u001b[0;32m   4235\u001b[0m \u001b[39melse\u001b[39;00m:\n\u001b[1;32m-> 4236\u001b[0m     loc \u001b[39m=\u001b[39m index\u001b[39m.\u001b[39;49mget_loc(key)\n\u001b[0;32m   4238\u001b[0m     \u001b[39mif\u001b[39;00m \u001b[39misinstance\u001b[39m(loc, np\u001b[39m.\u001b[39mndarray):\n\u001b[0;32m   4239\u001b[0m         \u001b[39mif\u001b[39;00m loc\u001b[39m.\u001b[39mdtype \u001b[39m==\u001b[39m np\u001b[39m.\u001b[39mbool_:\n",
      "File \u001b[1;32mc:\\Users\\ageev\\anaconda3\\envs\\ML2023\\Lib\\site-packages\\pandas\\core\\indexes\\range.py:418\u001b[0m, in \u001b[0;36mRangeIndex.get_loc\u001b[1;34m(self, key)\u001b[0m\n\u001b[0;32m    416\u001b[0m         \u001b[39mraise\u001b[39;00m \u001b[39mKeyError\u001b[39;00m(key) \u001b[39mfrom\u001b[39;00m \u001b[39merr\u001b[39;00m\n\u001b[0;32m    417\u001b[0m \u001b[39mif\u001b[39;00m \u001b[39misinstance\u001b[39m(key, Hashable):\n\u001b[1;32m--> 418\u001b[0m     \u001b[39mraise\u001b[39;00m \u001b[39mKeyError\u001b[39;00m(key)\n\u001b[0;32m    419\u001b[0m \u001b[39mself\u001b[39m\u001b[39m.\u001b[39m_check_indexing_error(key)\n\u001b[0;32m    420\u001b[0m \u001b[39mraise\u001b[39;00m \u001b[39mKeyError\u001b[39;00m(key)\n",
      "\u001b[1;31mKeyError\u001b[0m: 'Lastname'"
     ]
    }
   ],
   "source": [
    "import pandas as pd\n",
    "import numpy as np\n",
    "\n",
    "# Створення DF зі списку\n",
    "data =  [['Mike', 'Lake'],\n",
    "        ['Wolter', \"White\"],\n",
    "        ['Lila', 'Pinkman']]\n",
    "df = pd.DataFrame(data, columns=['Name','Lastname'])\n",
    "print(df)\n",
    "print('--------------------------------------------')\n",
    "\n",
    "# Створення DF зі словника\n",
    "data2 = {'Name': ['Mike', 'Wolter', 'Lila'],\n",
    "        'Age': [20, 51, 25],\n",
    "        'City': ['Los Angeles', 'New York', 'Chicago']}\n",
    "\n",
    "df2 = pd.DataFrame(data2)\n",
    "print(df2)\n",
    "print('--------------------------------------------')\n",
    "        \n",
    "# Створення DF зі списку словників\n",
    "data3 = [{'Name': 'Mike','Age': 20, 'City':'Los Angeles' },\n",
    "         {'Name': 'Wolter','Age': 51, 'City':'New York' },\n",
    "         {'Name': 'Lila','Age': 25, 'City':'Chicago' }]\n",
    "\n",
    "df3 = pd.DataFrame(data3)\n",
    "print(df3)\n",
    "print('--------------------------------------------')\n",
    "\n",
    "print(df.head(2))\n",
    "print('--------------------------------------------')\n",
    "print(df.tail(1))\n",
    "print('--------------------------------------------')\n",
    "print(df.loc[['Lastname'])\n",
    "print('--------------------------------------------')\n",
    "print(df2.iloc[[1,2]])\n",
    "print('--------------------------------------------')\n",
    "print(df2.describe())"
   ]
  },
  {
   "cell_type": "code",
   "execution_count": null,
   "metadata": {},
   "outputs": [],
   "source": []
  }
 ],
 "metadata": {
  "kernelspec": {
   "display_name": "ML2023",
   "language": "python",
   "name": "python3"
  },
  "language_info": {
   "codemirror_mode": {
    "name": "ipython",
    "version": 3
   },
   "file_extension": ".py",
   "mimetype": "text/x-python",
   "name": "python",
   "nbconvert_exporter": "python",
   "pygments_lexer": "ipython3",
   "version": "3.11.5"
  }
 },
 "nbformat": 4,
 "nbformat_minor": 2
}
