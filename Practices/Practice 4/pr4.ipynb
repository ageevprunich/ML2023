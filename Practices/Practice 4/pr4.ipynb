{
 "cells": [
  {
   "cell_type": "markdown",
   "metadata": {},
   "source": [
    "<h1>Практична робота №4 <h1>\n",
    "<h2>Пруніч Сергій МІТ-31<h2>"
   ]
  },
  {
   "cell_type": "code",
   "execution_count": 12,
   "metadata": {},
   "outputs": [],
   "source": [
    "import pandas as pd\n",
    "from sklearn.datasets import make_classification\n",
    "from sklearn.model_selection import train_test_split, GridSearchCV\n",
    "from sklearn.linear_model import LogisticRegression\n",
    "from sklearn.tree import DecisionTreeClassifier\n",
    "from sklearn.multioutput import MultiOutputClassifier\n",
    "from sklearn.svm import SVC\n",
    "from sklearn.metrics import accuracy_score, precision_score, recall_score, f1_score, roc_auc_score, confusion_matrix\n",
    "import matplotlib.pyplot as plt\n",
    "from xgboost import XGBClassifier\n",
    "from sklearn.metrics import classification_report\n",
    "\n",
    "import warnings\n",
    "warnings.filterwarnings(\"ignore\")"
   ]
  },
  {
   "cell_type": "code",
   "execution_count": 13,
   "metadata": {},
   "outputs": [
    {
     "name": "stdout",
     "output_type": "stream",
     "text": [
      "   Feature1  Feature2  Target\n",
      "0 -0.872929  0.013042       1\n",
      "1  1.312935  2.770534       1\n",
      "2  2.340428  2.420996       1\n",
      "3  2.294548 -0.404380       1\n",
      "4  0.944105  0.477241       1\n",
      "Найкращі гіперпараметри: {'max_iter': 100, 'penalty': 'l2'}\n",
      "Accuracy: 0.875\n",
      "Precision: 0.7727272727272727\n",
      "Recall: 1.0\n",
      "F1 Score: 0.8717948717948718\n",
      "AUC-ROC Score: 0.891304347826087\n"
     ]
    },
    {
     "data": {
      "image/png": "[encoded data removed]",
      "text/plain": [
       "<Figure size 480x480 with 2 Axes>"
      ]
     },
     "metadata": {},
     "output_type": "display_data"
    }
   ],
   "source": [
    "# Завдання для бінарної класифікації\n",
    "\n",
    "# Завантаження даних\n",
    "data = pd.read_csv('classification_dataset.csv')\n",
    "\n",
    "# Виведення перших рядків даних для перевірки\n",
    "print(data.head())\n",
    "\n",
    "# Розділення на ознаки та цільову змінну\n",
    "X = data.drop('Target', axis=1)\n",
    "y = data['Target']\n",
    "\n",
    "# Розділення даних на навчальний та тестовий набори\n",
    "X_train, X_test, y_train, y_test = train_test_split(X, y, test_size=0.2, random_state=42)\n",
    "\n",
    "param_grid = {\n",
    "    'max_iter': [100, 200, 300, 400],\n",
    "    'penalty': ['l1', 'l2'],\n",
    "}\n",
    "\n",
    "grid_search = GridSearchCV(estimator=LogisticRegression(random_state=42), param_grid=param_grid, cv=5)\n",
    "grid_search.fit(X_train, y_train)\n",
    "\n",
    "classifier = grid_search.best_estimator_\n",
    "y_pred = classifier.predict(X_test)\n",
    "\n",
    "\n",
    "# Виведення найкращих гіперпараметрів та результатів\n",
    "best_params = grid_search.best_params_\n",
    "print(\"Найкращі гіперпараметри:\", best_params)\n",
    "\n",
    "# Ініціалізація та навчання класифікатора (логістична регресія у цьому випадку)\n",
    "classifier = LogisticRegression()\n",
    "classifier.fit(X_train, y_train)\n",
    "\n",
    "# Прогнозування на тестовому наборі\n",
    "y_pred = classifier.predict(X_test)\n",
    "\n",
    "# Оцінка ефективності класифікатора\n",
    "print(\"Accuracy:\", accuracy_score(y_test, y_pred))\n",
    "print(\"Precision:\", precision_score(y_test, y_pred))\n",
    "print(\"Recall:\", recall_score(y_test, y_pred))\n",
    "print(\"F1 Score:\", f1_score(y_test, y_pred))\n",
    "print(\"AUC-ROC Score:\", roc_auc_score(y_test, y_pred))\n",
    "\n",
    "# Візуалізація матриці плутанини\n",
    "plt.matshow(confusion_matrix(y_test, y_pred), cmap=plt.cm.Blues)\n",
    "plt.colorbar()\n",
    "plt.xlabel('Predicted')\n",
    "plt.ylabel('Actual')\n",
    "plt.title('Confusion Matrix')\n",
    "plt.xticks([0, 1], ['Negative', 'Positive'])\n",
    "plt.yticks([0, 1], ['Negative', 'Positive'])\n",
    "plt.show()\n"
   ]
  },
  {
   "cell_type": "code",
   "execution_count": 14,
   "metadata": {},
   "outputs": [
    {
     "name": "stdout",
     "output_type": "stream",
     "text": [
      "LogisticRegression:\n",
      "precision: 0.65\n",
      "recall: 0.65\n",
      "F1: 0.6395368492224476\n",
      "Матриця:\n",
      "[[ 4  0  3  0]\n",
      " [ 5  2  0  1]\n",
      " [ 1  1 11  1]\n",
      " [ 0  1  1  9]]\n",
      "SVC:\n",
      "precision: 0.7\n",
      "recall: 0.7\n",
      "F1: 0.6821635472370766\n",
      "Матриця:\n",
      "[[ 4  0  3  0]\n",
      " [ 5  2  0  1]\n",
      " [ 1  1 11  1]\n",
      " [ 0  0  0 11]]\n",
      "DecisionTreeClassifier:\n",
      "precision: 0.65\n",
      "recall: 0.65\n",
      "F1: 0.6496303467699349\n",
      "Матриця:\n",
      "[[5 1 1 0]\n",
      " [4 3 0 1]\n",
      " [3 0 9 2]\n",
      " [0 0 2 9]]\n"
     ]
    }
   ],
   "source": [
    "# Завдання для мультикласової класифікаціїї\n",
    "\n",
    "# Завантаження даних\n",
    "data = pd.read_csv('multiclass_dataset.csv')\n",
    "\n",
    "# Розділення на ознаки та цільову змінну\n",
    "X = data.drop('Target', axis=1)\n",
    "y = data['Target']\n",
    "\n",
    "# Розділення даних на навчальний та тестовий набори\n",
    "X_train, X_test, y_train, y_test = train_test_split(X, y, test_size=0.2, random_state=42)\n",
    "\n",
    "# Ініціалізація та навчання класифікатора (Random Forest у цьому випадку)\n",
    "model_log = LogisticRegression(C=1.0, penalty='l2', max_iter=1000, random_state=42)\n",
    "model_Svc = SVC(C=1.0, kernel='linear', random_state=42)\n",
    "model_tree = DecisionTreeClassifier(max_depth=None, random_state=42)\n",
    "\n",
    "model_log.fit(X_train, y_train)\n",
    "model_Svc.fit(X_train, y_train)\n",
    "model_tree.fit(X_train, y_train)\n",
    "\n",
    "# Оцінка ефективності класифікатора\n",
    "def model_metrics(classifier,X_test, y_test):\n",
    "    y_pred = classifier.predict(X_test)\n",
    "    accuracy = accuracy_score(y_test, y_pred)\n",
    "    precision = precision_score(y_test, y_pred, average='weighted')\n",
    "    recall = recall_score(y_test, y_pred, average='weighted')\n",
    "    f1 = f1_score(y_test, y_pred, average='weighted')\n",
    "    conf_matrix = confusion_matrix(y_test, y_pred)\n",
    "    \n",
    "    print(f'{type(classifier).__name__}:')\n",
    "    print(f'precision: {accuracy}')\n",
    "    print(f'recall: {recall}')\n",
    "    print(f'F1: {f1}')\n",
    "    print('Матриця:')\n",
    "    print(conf_matrix)\n",
    "\n",
    "# Вивід результатів\n",
    "model_metrics(model_log, X_test, y_test)\n",
    "model_metrics(model_Svc, X_test, y_test)\n",
    "model_metrics(model_tree, X_test, y_test)"
   ]
  },
  {
   "cell_type": "code",
   "execution_count": 15,
   "metadata": {},
   "outputs": [
    {
     "name": "stdout",
     "output_type": "stream",
     "text": [
      "Найкращі гіперпараметри: {'estimator__learning_rate': 0.1, 'estimator__max_depth': 3, 'estimator__n_estimators': 300}\n",
      "\n",
      "Accuracy on test data: 0.4\n",
      "Classification Report:\n",
      "              precision    recall  f1-score   support\n",
      "\n",
      "           0       0.67      0.50      0.57         8\n",
      "           1       0.74      0.70      0.72        20\n",
      "           2       0.85      0.81      0.83        21\n",
      "           3       0.68      0.59      0.63        22\n",
      "\n",
      "   micro avg       0.75      0.68      0.71        71\n",
      "   macro avg       0.73      0.65      0.69        71\n",
      "weighted avg       0.75      0.68      0.71        71\n",
      " samples avg       0.72      0.62      0.64        71\n",
      "\n"
     ]
    }
   ],
   "source": [
    "# Завдання для мультилейб класифікації\n",
    "\n",
    "data = pd.read_csv('multilabel_dataset.csv')\n",
    "\n",
    "X = data[['Feature1', 'Feature2', 'Feature3']]\n",
    "y = data[['Label1', 'Label2', 'Label3', 'Label4']]\n",
    "X_train, X_test, y_train, y_test = train_test_split(X, y, test_size=0.2, random_state=13)\n",
    "\n",
    "param_grid = {\n",
    "    'estimator__n_estimators': [100, 200, 300],  # Кількість дерев \n",
    "    'estimator__max_depth': [3, 4, 5],  # Глибина дерев\n",
    "    'estimator__learning_rate': [0.01, 0.1, 0.2]  # Швидкість навчання\n",
    "}\n",
    "\n",
    "clf = MultiOutputClassifier(XGBClassifier())\n",
    "grid_search = GridSearchCV(estimator=clf, param_grid=param_grid, cv=3)\n",
    "grid_search.fit(X_train, y_train)\n",
    "\n",
    "best_estimator = grid_search.best_estimator_\n",
    "best_params = grid_search.best_params_\n",
    "print(\"Найкращі гіперпараметри:\", best_params)\n",
    "y_pred = best_estimator.predict(X_test)\n",
    "\n",
    "accuracy = accuracy_score(y_test, y_pred)\n",
    "print(f'\\nAccuracy on test data: {accuracy}')\n",
    "\n",
    "report = classification_report(y_test, y_pred)\n",
    "print(f'Classification Report:\\n{report}')"
   ]
  }
 ],
 "metadata": {
  "kernelspec": {
   "display_name": "ML2023",
   "language": "python",
   "name": "python3"
  },
  "language_info": {
   "codemirror_mode": {
    "name": "ipython",
    "version": 3
   },
   "file_extension": ".py",
   "mimetype": "text/x-python",
   "name": "python",
   "nbconvert_exporter": "python",
   "pygments_lexer": "ipython3",
   "version": "3.11.4"
  }
 },
 "nbformat": 4,
 "nbformat_minor": 2
}
